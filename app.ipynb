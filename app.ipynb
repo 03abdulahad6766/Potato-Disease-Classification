{
 "cells": [
  {
   "cell_type": "code",
   "execution_count": 2,
   "id": "4fd2d3f4-69b7-4b9f-aa70-2b60c6c2af72",
   "metadata": {},
   "outputs": [
    {
     "name": "stdout",
     "output_type": "stream",
     "text": [
      " * Serving Flask app '__main__'\n",
      " * Debug mode: off\n"
     ]
    },
    {
     "name": "stderr",
     "output_type": "stream",
     "text": [
      "WARNING: This is a development server. Do not use it in a production deployment. Use a production WSGI server instead.\n",
      " * Running on http://127.0.0.1:5000\n",
      "Press CTRL+C to quit\n",
      "127.0.0.1 - - [28/Nov/2024 15:22:10] \"GET / HTTP/1.1\" 200 -\n",
      "127.0.0.1 - - [28/Nov/2024 15:22:11] \"GET / HTTP/1.1\" 200 -\n"
     ]
    },
    {
     "name": "stdout",
     "output_type": "stream",
     "text": [
      "\u001b[1m1/1\u001b[0m \u001b[32m━━━━━━━━━━━━━━━━━━━━\u001b[0m\u001b[37m\u001b[0m \u001b[1m0s\u001b[0m 259ms/step\n"
     ]
    },
    {
     "name": "stderr",
     "output_type": "stream",
     "text": [
      "127.0.0.1 - - [28/Nov/2024 15:22:22] \"POST / HTTP/1.1\" 200 -\n",
      "127.0.0.1 - - [28/Nov/2024 15:22:22] \"GET /static/0a8a68ee-f587-4dea-beec-79d02e7d3fa4___RS_Early.B_8461.JPG HTTP/1.1\" 200 -\n",
      "127.0.0.1 - - [28/Nov/2024 15:22:22] \"GET / HTTP/1.1\" 200 -\n"
     ]
    }
   ],
   "source": [
    "from flask import Flask, request, render_template\n",
    "import tensorflow as tf\n",
    "import numpy as np\n",
    "from PIL import Image\n",
    "import os\n",
    "from werkzeug.utils import secure_filename\n",
    "\n",
    "\n",
    "model = tf.keras.models.load_model(\"1.keras\")\n",
    "\n",
    "# Define the class names (update based on your training data classes)\n",
    "class_names = ['Potato___Early_blight', 'Potato___Late_blight', 'Potato___healthy']\n",
    "\n",
    "# Initialize the Flask app\n",
    "app = Flask(__name__)\n",
    "\n",
    "# Preprocess the uploaded image\n",
    "def preprocess_image(image_path):\n",
    "    img = Image.open(image_path).convert(\"RGB\")\n",
    "    img = img.resize((224, 224))  # Resize to model's input size\n",
    "    img_array = np.array(img) / 255.0  # Normalize pixel values\n",
    "    img_array = np.expand_dims(img_array, axis=0)  # Add batch dimension\n",
    "    return img_array\n",
    "\n",
    "# Prediction function\n",
    "def predict(image_path):\n",
    "    img_array = preprocess_image(image_path)\n",
    "    predictions = model.predict(img_array)\n",
    "    predicted_class = class_names[np.argmax(predictions[0])]\n",
    "    confidence = round(100 * np.max(predictions[0]), 2)\n",
    "    return predicted_class, confidence\n",
    "\n",
    "# Routes\n",
    "@app.route(\"/\", methods=[\"GET\", \"POST\"])\n",
    "def index():\n",
    "    if request.method == \"POST\":\n",
    "        # Check if a file is uploaded\n",
    "        if \"file\" not in request.files or request.files[\"file\"].filename == \"\":\n",
    "            return \"No file uploaded\", 400\n",
    "\n",
    "        file = request.files[\"file\"]\n",
    "        filename = secure_filename(file.filename)\n",
    "\n",
    "        # Save the uploaded file\n",
    "        file_path = os.path.join(\"static\", filename)\n",
    "        os.makedirs(\"static\", exist_ok=True)  # Ensure the 'static' folder exists\n",
    "        file.save(file_path)\n",
    "\n",
    "        # Make a prediction\n",
    "        predicted_class, confidence = predict(file_path)\n",
    "\n",
    "        # Render result page\n",
    "        return render_template(\n",
    "            \"result.html\",\n",
    "            image_path=file_path,\n",
    "            prediction=predicted_class,\n",
    "            confidence=confidence,\n",
    "        )\n",
    "\n",
    "    return render_template(\"index.html\")\n",
    "\n",
    "# Run Flask app from Jupyter\n",
    "import threading\n",
    "\n",
    "def run_flask():\n",
    "    app.run(debug=False, use_reloader=False)\n",
    "\n",
    "flask_thread = threading.Thread(target=run_flask)\n",
    "flask_thread.start()"
   ]
  },
  {
   "cell_type": "code",
   "execution_count": 23,
   "id": "6c1f3b36-2e19-4bd5-bbb6-fbeb038799c3",
   "metadata": {},
   "outputs": [
    {
     "name": "stdout",
     "output_type": "stream",
     "text": [
      "Model loaded successfully.\n",
      "\u001b[1m1/1\u001b[0m \u001b[32m━━━━━━━━━━━━━━━━━━━━\u001b[0m\u001b[37m\u001b[0m \u001b[1m0s\u001b[0m 222ms/step\n",
      "Prediction Result for C:/Users/03abd/poatato desesasis/00fc2ee5-729f-4757-8aeb-65c3355874f2___RS_HL 1864.JPG:\n",
      "Predicted Class: Potato___Early_blight\n",
      "Confidence: 100.0%\n"
     ]
    }
   ],
   "source": [
    "import tensorflow as tf\n",
    "import numpy as np\n",
    "from PIL import Image\n",
    "\n",
    "# Load the trained model\n",
    "model = tf.keras.models.load_model(\"2.keras\")  # Ensure the model file name matches\n",
    "print(\"Model loaded successfully.\")\n",
    "\n",
    "# Define the class names as per the training data\n",
    "class_names = ['Potato___Early_blight', 'Potato___Late_blight', 'Potato___healthy']\n",
    "\n",
    "# Define the image preprocessing function (same as in the app)\n",
    "def preprocess_image(image_path):\n",
    "    img = Image.open(image_path).convert(\"RGB\")\n",
    "    img = img.resize((224, 224))  # Match model's expected input size\n",
    "    img_array = np.array(img) / 255.0  # Normalize pixel values to [0, 1]\n",
    "    img_array = np.expand_dims(img_array, axis=0)  # Add batch dimension\n",
    "    return img_array\n",
    "\n",
    "# Define the predict function (same as in the app)\n",
    "def predict(image_path):\n",
    "    img_array = preprocess_image(image_path)\n",
    "    predictions = model.predict(img_array)  # Get predictions from the model\n",
    "    predicted_class = class_names[np.argmax(predictions[0])]\n",
    "    confidence = round(100 * np.max(predictions[0]), 2)\n",
    "    return predicted_class, confidence\n",
    "\n",
    "# Test the predict function with a sample image\n",
    "test_image_path = \"C:/Users/03abd/poatato desesasis/00fc2ee5-729f-4757-8aeb-65c3355874f2___RS_HL 1864.JPG\"  # Replace with the path to a test image\n",
    "try:\n",
    "    predicted_class, confidence = predict(test_image_path)\n",
    "    print(f\"Prediction Result for {test_image_path}:\")\n",
    "    print(f\"Predicted Class: {predicted_class}\")\n",
    "    print(f\"Confidence: {confidence}%\")\n",
    "except Exception as e:\n",
    "    print(f\"Error: {e}\")"
   ]
  },
  {
   "cell_type": "code",
   "execution_count": null,
   "id": "5a91b367-7a9d-4f87-867f-25a193b3b3a0",
   "metadata": {},
   "outputs": [],
   "source": []
  }
 ],
 "metadata": {
  "kernelspec": {
   "display_name": "Python 3 (ipykernel)",
   "language": "python",
   "name": "python3"
  },
  "language_info": {
   "codemirror_mode": {
    "name": "ipython",
    "version": 3
   },
   "file_extension": ".py",
   "mimetype": "text/x-python",
   "name": "python",
   "nbconvert_exporter": "python",
   "pygments_lexer": "ipython3",
   "version": "3.12.4"
  }
 },
 "nbformat": 4,
 "nbformat_minor": 5
}
